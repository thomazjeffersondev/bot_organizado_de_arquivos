{
 "cells": [
  {
   "cell_type": "code",
   "execution_count": 94,
   "metadata": {},
   "outputs": [],
   "source": [
    "import os"
   ]
  },
  {
   "cell_type": "markdown",
   "metadata": {},
   "source": [
    "C:\\Users\\marin\\Downloads"
   ]
  },
  {
   "cell_type": "code",
   "execution_count": 95,
   "metadata": {},
   "outputs": [],
   "source": [
    "os.chdir(r\"C:\\Users\\marin\\Downloads\")"
   ]
  },
  {
   "cell_type": "code",
   "execution_count": 96,
   "metadata": {},
   "outputs": [],
   "source": [
    "lista_arquivos = [arquivo.lower() for arquivo in os.listdir() if os.path.isfile(arquivo)]"
   ]
  },
  {
   "cell_type": "code",
   "execution_count": 97,
   "metadata": {},
   "outputs": [
    {
     "data": {
      "text/plain": [
       "['(audio) 20240316-1251-47.7329492.m4a',\n",
       " '1627397976594 (1).docx',\n",
       " '1627397976594 (1).pdf',\n",
       " '1627397976594.docx',\n",
       " '1645103059479 (1).pdf',\n",
       " '1645103059479 (2).pdf',\n",
       " '1645103059479.pdf',\n",
       " '9826f6c6-23f4-431e-8d76-6288bf88aba1.pdf',\n",
       " 'anaconda3-2024.02-1-windows-x86_64.exe',\n",
       " 'android-studio-2023.1.1.28-windows.exe',\n",
       " 'aplicativo de delivery.png',\n",
       " 'apostila - degrau 2 - dominando python.pdf',\n",
       " 'apowermirror-setup-gg-android.exe',\n",
       " 'arqui.txt.txt',\n",
       " 'astah-uml-9_1_0-448a59-jre-64bit-setup.exe',\n",
       " 'blueprint-cannoli-v2.5.json',\n",
       " 'capcut_7267140873131950085_installer.exe',\n",
       " 'collections.ipynb',\n",
       " 'contestac_a_o+bing+ads+(4).pdf',\n",
       " 'delivery-master (1).zip',\n",
       " 'delivery-master.zip',\n",
       " 'design sem nome (1).png',\n",
       " 'design sem nome.png',\n",
       " 'desktop.ini',\n",
       " 'elementor-91-2024-03-01.json',\n",
       " 'estrate_gia+fpff+[lista+para+google+ads]+(1).pdf',\n",
       " 'estrutura sequencial.ipynb',\n",
       " 'extenso_esfpff-minadobing.pdf',\n",
       " 'extenso_esindispensa_veis2.pdf',\n",
       " 'ficha_aluno (1).pdf',\n",
       " 'ficha_aluno.pdf',\n",
       " 'figma basics (1).zip',\n",
       " 'figma basics (2).zip',\n",
       " 'foot trooper - blueheader (cens) - cy, gr.zip',\n",
       " 'frente.jpeg',\n",
       " 'libreoffice_24.2.1_win_x86-64.msi',\n",
       " 'material_modulo10.zip',\n",
       " 'menu_2848d5e278694ff8b26f16154f791362.zip',\n",
       " 'modael_delivery_atualizado_dfc03780f67d43dea213ac22ec70cd9d (1).zip',\n",
       " 'modael_delivery_atualizado_dfc03780f67d43dea213ac22ec70cd9d.zip',\n",
       " 'mysql-installer-web-community-8.0.36.0 (1).msi',\n",
       " 'palavras-chaves+negativas+[novembro_2023] (1).pdf',\n",
       " 'palavras-chaves+negativas+[novembro_2023].pdf',\n",
       " 'pressel-pronta.json',\n",
       " 'public_html.zip',\n",
       " 'python-3.12.2-amd64.exe',\n",
       " 'recibo de pagamento_2024-01-31.pdf',\n",
       " 'recibo de pagamento_2024-02-02.pdf',\n",
       " 'relatório de análise orientado a objeto .docx',\n",
       " 'sherlock-master.zip',\n",
       " 'tiktokads_audience_insight_quick deliver1212_20240222223201.xlsx',\n",
       " 'transferir.mp4',\n",
       " 'tras.jpeg',\n",
       " 'tsetup-x64.4.14.13.exe',\n",
       " 'vscodeusersetup-x64-1.85.2.exe',\n",
       " 'whatsapp image 2024-01-31 at 09.17.41 (1).jpeg',\n",
       " 'whatsapp image 2024-01-31 at 09.17.41 (2).jpeg',\n",
       " 'whatsapp image 2024-01-31 at 09.17.41.jpeg',\n",
       " 'whatsapp image 2024-02-06 at 10.36.52.jpeg',\n",
       " 'whatsapp image 2024-04-07 at 15.46.39.jpeg',\n",
       " 'whatsapp installer.exe',\n",
       " '[bing+ads]+estrate_gia+fpff+completa+-+atualizado+julho_2023+(2).pdf',\n",
       " '[bing+ads]+estrate_gia+fpff+completa+-+atualizado+outubro_2023+(1)+(1).pdf']"
      ]
     },
     "execution_count": 97,
     "metadata": {},
     "output_type": "execute_result"
    }
   ],
   "source": [
    "lista_arquivos"
   ]
  },
  {
   "cell_type": "code",
   "execution_count": 98,
   "metadata": {},
   "outputs": [
    {
     "data": {
      "text/plain": [
       "'jpeg'"
      ]
     },
     "execution_count": 98,
     "metadata": {},
     "output_type": "execute_result"
    }
   ],
   "source": [
    "'WhatsApp Image 2024-01-31 at 09.17.41.jpeg'.split(\".\")[-1]"
   ]
  },
  {
   "cell_type": "code",
   "execution_count": 99,
   "metadata": {},
   "outputs": [],
   "source": [
    "lista_tipos = {tipo.split(\".\")[-1] for tipo in lista_arquivos}"
   ]
  },
  {
   "cell_type": "code",
   "execution_count": 100,
   "metadata": {},
   "outputs": [
    {
     "data": {
      "text/plain": [
       "{'docx',\n",
       " 'exe',\n",
       " 'ini',\n",
       " 'ipynb',\n",
       " 'jpeg',\n",
       " 'json',\n",
       " 'm4a',\n",
       " 'mp4',\n",
       " 'msi',\n",
       " 'pdf',\n",
       " 'png',\n",
       " 'txt',\n",
       " 'xlsx',\n",
       " 'zip'}"
      ]
     },
     "execution_count": 100,
     "metadata": {},
     "output_type": "execute_result"
    }
   ],
   "source": [
    "lista_tipos"
   ]
  },
  {
   "cell_type": "code",
   "execution_count": 106,
   "metadata": {},
   "outputs": [],
   "source": [
    "for tipo in lista_tipos:\n",
    "    if os.path.exists(tipo):\n",
    "        pass\n",
    "    else:\n",
    "        os.mkdir(tipo)"
   ]
  },
  {
   "cell_type": "code",
   "execution_count": 114,
   "metadata": {},
   "outputs": [],
   "source": [
    "for arquivo in lista_arquivos:\n",
    "    pasta_destino = arquivo.split(\".\")[-1]\n",
    "    de = os.path.join(os.getcwd(),arquivo)\n",
    "    para = os.path.join(os.getcwd(), pasta_destino, arquivo)\n",
    "    if os.path.exists(de):\n",
    "        os.replace(de,para)"
   ]
  },
  {
   "cell_type": "code",
   "execution_count": 108,
   "metadata": {},
   "outputs": [
    {
     "name": "stdout",
     "output_type": "stream",
     "text": [
      "pdf\n"
     ]
    }
   ],
   "source": []
  }
 ],
 "metadata": {
  "kernelspec": {
   "display_name": "Python 3",
   "language": "python",
   "name": "python3"
  },
  "language_info": {
   "codemirror_mode": {
    "name": "ipython",
    "version": 3
   },
   "file_extension": ".py",
   "mimetype": "text/x-python",
   "name": "python",
   "nbconvert_exporter": "python",
   "pygments_lexer": "ipython3",
   "version": "3.11.7"
  }
 },
 "nbformat": 4,
 "nbformat_minor": 2
}
